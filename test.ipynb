{
 "cells": [
  {
   "cell_type": "code",
   "execution_count": 1,
   "metadata": {},
   "outputs": [],
   "source": [
    "from MojoLearn import Linear, Tensor"
   ]
  },
  {
   "cell_type": "code",
   "execution_count": 2,
   "metadata": {},
   "outputs": [],
   "source": [
    "var layer1 = Linear(3, 2)\n",
    "var layer2 = Linear(2, 4)\n",
    "var inp = Tensor(6, 3)\n",
    "inp.rand_range(1, 2)"
   ]
  },
  {
   "cell_type": "code",
   "execution_count": 3,
   "metadata": {},
   "outputs": [
    {
     "name": "stdout",
     "output_type": "stream",
     "text": [
      "[[  1.4134   1.2611   1.5154 ] \n",
      " [  1.0906   1.9376   1.8539 ] \n",
      " [  1.4490   1.3746   1.2545 ] \n",
      " [  1.2627   1.2883   1.2933 ] \n",
      " [  1.8999   1.4758   1.1048 ] \n",
      " [  1.8421   1.4346   1.2064 ]]\n",
      "[[  0.4105  -1.1026 ] \n",
      " [ -0.1540  -0.1810 ] \n",
      " [ -0.6230   0.4263 ]]\n"
     ]
    }
   ],
   "source": [
    "print(inp.__str__())\n",
    "print(layer1.weights.__str__())"
   ]
  },
  {
   "cell_type": "code",
   "execution_count": 4,
   "metadata": {},
   "outputs": [
    {
     "name": "stdout",
     "output_type": "stream",
     "text": [
      "[[ -0.7109  -0.8177 ] \n",
      " [ -1.0057  -0.7629 ] \n",
      " [ -0.3984  -1.3117 ] \n",
      " [ -0.4858  -1.0742 ] \n",
      " [ -0.1356  -1.8910 ] \n",
      " [ -0.2163  -1.7765 ]]\n"
     ]
    }
   ],
   "source": [
    "print(layer1.forward(inp).__str__())"
   ]
  }
 ],
 "metadata": {
  "kernelspec": {
   "display_name": "Mojo",
   "language": "mojo",
   "name": "mojo-jupyter-kernel"
  },
  "language_info": {
   "codemirror_mode": {
    "name": "mojo"
   },
   "file_extension": ".mojo",
   "mimetype": "text/x-mojo",
   "name": "mojo"
  }
 },
 "nbformat": 4,
 "nbformat_minor": 2
}
